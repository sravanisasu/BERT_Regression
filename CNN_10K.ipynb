{
  "nbformat": 4,
  "nbformat_minor": 0,
  "metadata": {
    "colab": {
      "name": "CNN-10K.ipynb",
      "provenance": [],
      "collapsed_sections": [],
      "include_colab_link": true
    },
    "kernelspec": {
      "name": "python3",
      "display_name": "Python 3"
    },
    "accelerator": "GPU"
  },
  "cells": [
    {
      "cell_type": "markdown",
      "metadata": {
        "id": "view-in-github",
        "colab_type": "text"
      },
      "source": [
        "<a href=\"https://colab.research.google.com/github/sravanisasu/BERT_Regression/blob/main/CNN_10K.ipynb\" target=\"_parent\"><img src=\"https://colab.research.google.com/assets/colab-badge.svg\" alt=\"Open In Colab\"/></a>"
      ]
    },
    {
      "cell_type": "markdown",
      "metadata": {
        "id": "SYcjLMdXn1vk"
      },
      "source": [
        "**git clone dataset**"
      ]
    },
    {
      "cell_type": "code",
      "metadata": {
        "colab": {
          "base_uri": "https://localhost:8080/"
        },
        "id": "Erh5bOtmg_1V",
        "outputId": "ac23067f-075a-421b-a3ec-ff6794f9763d"
      },
      "source": [
        "!git clone https://github.com/sravanisasu/10k-sample"
      ],
      "execution_count": 1,
      "outputs": [
        {
          "output_type": "stream",
          "text": [
            "Cloning into '10k-sample'...\n",
            "remote: Enumerating objects: 9, done.\u001b[K\n",
            "remote: Counting objects: 100% (9/9), done.\u001b[K\n",
            "remote: Compressing objects: 100% (9/9), done.\u001b[K\n",
            "remote: Total 9557 (delta 1), reused 1 (delta 0), pack-reused 9548\u001b[K\n",
            "Receiving objects: 100% (9557/9557), 158.15 MiB | 15.36 MiB/s, done.\n",
            "Resolving deltas: 100% (336/336), done.\n",
            "Checking out files: 100% (10020/10020), done.\n"
          ],
          "name": "stdout"
        }
      ]
    },
    {
      "cell_type": "markdown",
      "metadata": {
        "id": "VjYJWpDrn7jQ"
      },
      "source": [
        "**required imports**"
      ]
    },
    {
      "cell_type": "code",
      "metadata": {
        "id": "U-MWsoiWOC8J",
        "colab": {
          "base_uri": "https://localhost:8080/"
        },
        "outputId": "3300241e-6896-4061-fa75-f905e24a8acb"
      },
      "source": [
        "# Importing the required packages\n",
        "\n",
        "import nltk\n",
        "nltk.download('stopwords')\n",
        "from nltk.corpus import stopwords\n",
        "from nltk.stem.porter import PorterStemmer\n",
        "import numpy as np\n",
        "from numpy import random\n",
        "from pickle import load\n",
        "from numpy import array\n",
        "import os\n",
        "import re\n",
        "import pandas as pd\n",
        "import tensorflow as tf\n",
        "from keras.utils.vis_utils import plot_model\n",
        "from keras.models import Model\n",
        "from keras.layers import Input\n",
        "from keras.layers import Dense\n",
        "from keras.layers import Flatten\n",
        "from keras.layers import Dropout\n",
        "from keras.layers import Embedding\n",
        "from keras import optimizers\n",
        "from keras.layers.convolutional import Conv1D\n",
        "from keras.layers.convolutional import MaxPooling1D\n",
        "from keras.layers.merge import concatenate\n",
        "from keras.preprocessing.text import Tokenizer\n",
        "from keras.preprocessing.sequence import pad_sequences\n",
        "from keras.metrics import RootMeanSquaredError\n",
        "import matplotlib.pyplot as plt\n",
        "from keras.layers.advanced_activations import LeakyReLU"
      ],
      "execution_count": 2,
      "outputs": [
        {
          "output_type": "stream",
          "text": [
            "[nltk_data] Downloading package stopwords to /root/nltk_data...\n",
            "[nltk_data]   Unzipping corpora/stopwords.zip.\n"
          ],
          "name": "stdout"
        }
      ]
    },
    {
      "cell_type": "markdown",
      "metadata": {
        "id": "3RGtsu1_n_kF"
      },
      "source": [
        "**building embedding for the words**"
      ]
    },
    {
      "cell_type": "code",
      "metadata": {
        "id": "O7M9JpeG0CYa"
      },
      "source": [
        "#Define file paths required for the model\n",
        "\n",
        "# embedding bin file\n",
        "embed_file = \"/content/sim.expand.200d.vec\"\n",
        "\n",
        "#Define Hyper parameters\n",
        "max_inp_len = 20000\n",
        "# the dimension of vectors to be used\n",
        "embed_dim = 200\n",
        "rounding = 6\n",
        "# filter sizes of the different conv layers \n",
        "filter_sizes = [3,4,5]\n",
        "num_filters = 1\n",
        "pool_size = 199\n",
        "# dropout probability\n",
        "drop = 0.5\n",
        "batch_size = 50\n",
        "learning_rate = 0.001\n",
        "epochs = 30"
      ],
      "execution_count": 3,
      "outputs": []
    },
    {
      "cell_type": "code",
      "metadata": {
        "id": "7DbBN4tosBE9",
        "colab": {
          "base_uri": "https://localhost:8080/"
        },
        "outputId": "3e00e440-bbe4-49fd-dc6c-783b72ebfe7f"
      },
      "source": [
        "#define embedding dictionary and embed matrix for the vocabulary\n",
        "embeddings_dic = dict()\n",
        "f = open(embed_file,encoding='utf8')\n",
        "with open(embed_file, 'r', encoding='utf-8') as e_file:\n",
        "  for line in e_file:\n",
        "    splitlines = line.split()\n",
        "    word = splitlines[0].strip()\n",
        "    coefs = np.asarray(splitlines[1:], dtype='float32')\n",
        "    embeddings_dic[word] = coefs\n",
        "\n",
        "print(\"length of embedding dictionary\",len(embeddings_dic))"
      ],
      "execution_count": 4,
      "outputs": [
        {
          "output_type": "stream",
          "text": [
            "length of embedding dictionary 70429\n"
          ],
          "name": "stdout"
        }
      ]
    },
    {
      "cell_type": "code",
      "metadata": {
        "id": "fqa1tA-lt6e8",
        "colab": {
          "base_uri": "https://localhost:8080/"
        },
        "outputId": "ce997997-a9be-4180-8199-9d24a1e4bec8"
      },
      "source": [
        "vocabulary_size = len(embeddings_dic.keys())\n",
        "embed_token = Tokenizer()\n",
        "embed_token.fit_on_texts(embeddings_dic.keys())\n",
        "embedding_matrix = np.zeros((vocabulary_size, embed_dim))\n",
        "for word, index in embed_token.word_index.items():\n",
        "  embedding_matrix[index] = embeddings_dic.get(word)\n",
        "print(\"embedding_matrix dimension\",len(embedding_matrix),len(embedding_matrix[0]))\n",
        "print(\"no of token in the tokenizer\",len(embed_token.word_index) + 1)"
      ],
      "execution_count": 5,
      "outputs": [
        {
          "output_type": "stream",
          "text": [
            "embedding_matrix dimension 70429 200\n",
            "no of token in the tokenizer 70429\n"
          ],
          "name": "stdout"
        }
      ]
    },
    {
      "cell_type": "markdown",
      "metadata": {
        "id": "8Rm4k5CZoOau"
      },
      "source": [
        "**Pre processing input and output**"
      ]
    },
    {
      "cell_type": "code",
      "metadata": {
        "id": "laF6m-NotXFw"
      },
      "source": [
        "#function to pre process the document\n",
        "def process_doc(path_file,embed_token) :\n",
        "\n",
        "  #tokenizing the words \n",
        "  with open(path_file,'r', encoding='utf-8') as tok_file :\n",
        "    file_words = list(tok_file)[0].split()\n",
        "    \n",
        "  #removing the stop words\n",
        "  stop_words = set(stopwords.words('english'))\n",
        "  filtered_words = []  \n",
        "  for word in file_words: \n",
        "      if word not in stop_words and word.isalpha(): \n",
        "          filtered_words.append(word)\n",
        "\n",
        "  # applying stemming using PorterStemmer\n",
        "\n",
        "  p_stemmer = PorterStemmer()\n",
        "  stem_words=[]\n",
        "  for word in filtered_words:\n",
        "    stem_words.append(p_stemmer.stem(word))\n",
        "    \n",
        "  #tokenizing the words using the embed token\n",
        "  tokens=[]\n",
        "  for word in stem_words:\n",
        "    try:\n",
        "      tokens.append(embed_token.word_index[word])\n",
        "    except:\n",
        "      tokens.append(1)\n",
        "\n",
        "  if len(tokens) < max_inp_len:\n",
        "    tokens.extend([0]*(max_inp_len-len(tokens)))\n",
        "  else:\n",
        "    tokens = tokens[:max_inp_len]\n",
        "    \n",
        "  return np.array(tokens)"
      ],
      "execution_count": 6,
      "outputs": []
    },
    {
      "cell_type": "code",
      "metadata": {
        "id": "1NCdDHfYt3l7"
      },
      "source": [
        "#output dataset\n",
        "def output_data(company_id, out_path_file):\n",
        "  with open(out_path_file,'r', encoding='utf-8') as out_file :\n",
        "    for line in out_file.readlines():\n",
        "      if company_id == line.split()[1]:\n",
        "        return line.split()[0]\n",
        "  return None"
      ],
      "execution_count": 7,
      "outputs": []
    },
    {
      "cell_type": "code",
      "metadata": {
        "id": "BctWiw3UixYv"
      },
      "source": [
        "def pre_processing(meta_file,output_file):\n",
        "\n",
        "  with open(meta_file,'r', encoding='utf-8') as m_file :\n",
        "    \n",
        "    year = meta_file.split('/')[1].split('.')[0]\n",
        "    dir_path = os.path.dirname(meta_file) + '/' +year+'.tok'\n",
        "    data =[]\n",
        "\n",
        "    for line in m_file.readlines():\n",
        "      inp_path_file = dir_path +'/'+ line.split()[0] + '.mda'\n",
        "      \n",
        "      # get input tokens from the company document\n",
        "      inp_tokens = process_doc(inp_path_file,embed_token)\n",
        "      \n",
        "      # get output value for the company\n",
        "      out_values = output_data(line.split()[0],output_file)\n",
        "\n",
        "      #insert values into the data list\n",
        "      data.append({'token':inp_tokens,'value':out_values})\n",
        "\n",
        "  return data"
      ],
      "execution_count": 8,
      "outputs": []
    },
    {
      "cell_type": "code",
      "metadata": {
        "id": "XVi-HHNCPHkz",
        "colab": {
          "base_uri": "https://localhost:8080/"
        },
        "outputId": "f3565774-d48e-4a5e-c37b-7e08175e6436"
      },
      "source": [
        "with tf.device('/device:GPU:0'):\n",
        "  ######## extracting text and storing it in dataframes ########\n",
        "  data_train = pre_processing('10k-sample/2007.meta.txt','10k-sample/2007.logvol.+12.txt')\n",
        "  data_train.extend(pre_processing('10k-sample/2008.meta.txt','10k-sample/2008.logvol.+12.txt'))\n",
        "  data_train.extend(pre_processing('10k-sample/2009.meta.txt','10k-sample/2009.logvol.+12.txt'))\n",
        "  train_df = pd.DataFrame(data_train,columns=['token','value'])\n",
        "  print(\"Length of training data\",len(data_train))\n",
        "\n",
        "\n",
        "  data_test = pre_processing('10k-sample/2010.meta.txt','10k-sample/2010.logvol.+12.txt')\n",
        "  test_df = pd.DataFrame(data_test,columns=['token','value'])\n",
        "  print(\"Length of testing data\",len(data_test))\n",
        "\n",
        "  print(\"SAMPLE INPUT TEXT AND VOLATILITY VALUES\")\n",
        "  print(train_df.sample(5)[['token','value']])\n",
        "  print(test_df.sample(5)[['token','value']])"
      ],
      "execution_count": 9,
      "outputs": [
        {
          "output_type": "stream",
          "text": [
            "Length of training data 7571\n",
            "Length of testing data 2439\n",
            "SAMPLE INPUT TEXT AND VOLATILITY VALUES\n",
            "                                                  token     value\n",
            "5960  [170, 79, 197, 303, 45, 124, 25, 18, 43, 999, ...   -3.5006\n",
            "7257  [170, 79, 197, 303, 45, 124, 25, 18, 150, 197,...  -2.79039\n",
            "2484  [170, 79, 197, 303, 45, 124, 25, 18, 120, 165,...  -4.06273\n",
            "724   [170, 79, 197, 303, 45, 124, 25, 18, 170, 1129...  -4.07825\n",
            "3034  [170, 79, 197, 303, 45, 124, 25, 18, 5905, 98,...   -3.1405\n",
            "                                                  token     value\n",
            "2060  [170, 79, 197, 303, 45, 124, 25, 18, 150, 197,...    -3.346\n",
            "390   [170, 79, 197, 303, 45, 124, 25, 18, 150, 323,...  -3.77472\n",
            "752   [170, 79, 197, 303, 45, 124, 25, 18, 582, 324,...  -2.44125\n",
            "2047  [170, 79, 197, 303, 45, 124, 25, 18, 79, 197, ...  -3.87244\n",
            "76    [170, 79, 197, 303, 45, 124, 25, 18, 964, 3122...  -3.74587\n"
          ],
          "name": "stdout"
        }
      ]
    },
    {
      "cell_type": "code",
      "metadata": {
        "id": "fevays6tkt2p"
      },
      "source": [
        "CNN_train_input = train_df.token.values\n",
        "CNN_train_output = [ float(x) for x in train_df.value.values ]\n",
        "CNN_test_input = test_df.token.values\n",
        "CNN_test_output = [ float(x) for x in test_df.value.values ]"
      ],
      "execution_count": 10,
      "outputs": []
    },
    {
      "cell_type": "code",
      "metadata": {
        "id": "PG6qwiQ-kffG"
      },
      "source": [
        "CNN_train_output = np.array(CNN_train_output).reshape(len(CNN_train_output),1)\n",
        "CNN_test_output = np.array(CNN_test_output).reshape(len(CNN_test_output),1)"
      ],
      "execution_count": 11,
      "outputs": []
    },
    {
      "cell_type": "markdown",
      "metadata": {
        "id": "TcgQtUmJooLV"
      },
      "source": [
        "**define the model**"
      ]
    },
    {
      "cell_type": "code",
      "metadata": {
        "id": "wIOmvEheA_Mw"
      },
      "source": [
        "def define_model(max_inp_len,vocabulary_size,embed_dim,filter_sizes,num_filters,pool_size,drop,learning_rate):\n",
        "  \n",
        "  # input and embedding matrix\n",
        "  inputs = Input(shape=(max_inp_len,))\n",
        "  embedding = Embedding(vocabulary_size, embed_dim, weights=[embedding_matrix],trainable = False)(inputs)\n",
        "\n",
        "  custom_objects={'leaky_relu': tf.nn.leaky_relu}\n",
        "\n",
        "  # channel 1 convolution and local max-pooling\n",
        "  convolution_1 = Conv1D(filters=num_filters, kernel_size=filter_sizes[0], activation=custom_objects['leaky_relu'])(embedding)\n",
        "  pool_1 = MaxPooling1D(pool_size=pool_size)(convolution_1)\n",
        "  \n",
        "\t# channel 2 convolution and local max-pooling\n",
        "  convolution_4 = Conv1D(filters=num_filters, kernel_size=filter_sizes[1], activation=custom_objects['leaky_relu'])(embedding)\n",
        "  pool_2 = MaxPooling1D(pool_size=pool_size)(convolution_4)\n",
        "  \n",
        "  # channel 3 convolution and local max-pooling\n",
        "  convolution_5 = Conv1D(filters=num_filters, kernel_size=filter_sizes[2], activation=custom_objects['leaky_relu'])(embedding)\n",
        "  pool_3 = MaxPooling1D(pool_size=pool_size)(convolution_5)\n",
        "  \n",
        "  # merge and dropout\n",
        "  merged = concatenate([pool_1,pool_2,pool_3],axis=1)\n",
        "  drop_out = Dropout(drop)(merged)\n",
        "  flat = Flatten()(drop_out)\n",
        "\n",
        "  # 2 fully connected layers\n",
        "  dense1 = Dense(100, activation=custom_objects['leaky_relu'])(flat)\n",
        "  outputs = Dense(1, activation=custom_objects['leaky_relu'])(dense1)\n",
        "  model = Model(inputs=[inputs], outputs=outputs)\n",
        "    \n",
        "  opt = optimizers.SGD(learning_rate=learning_rate)\n",
        "  model.compile(loss='mse', optimizer=opt)\n",
        "\n",
        "  return model"
      ],
      "execution_count": 12,
      "outputs": []
    },
    {
      "cell_type": "code",
      "metadata": {
        "id": "D3xv22helsjG",
        "colab": {
          "base_uri": "https://localhost:8080/"
        },
        "outputId": "aecd8204-3fb0-4f63-a158-719439556a05"
      },
      "source": [
        "# define model\n",
        "model = define_model(max_inp_len,vocabulary_size,embed_dim,filter_sizes,num_filters,pool_size,drop,learning_rate)\n",
        "model.summary()"
      ],
      "execution_count": 13,
      "outputs": [
        {
          "output_type": "stream",
          "text": [
            "Model: \"model\"\n",
            "__________________________________________________________________________________________________\n",
            "Layer (type)                    Output Shape         Param #     Connected to                     \n",
            "==================================================================================================\n",
            "input_1 (InputLayer)            [(None, 20000)]      0                                            \n",
            "__________________________________________________________________________________________________\n",
            "embedding (Embedding)           (None, 20000, 200)   14085800    input_1[0][0]                    \n",
            "__________________________________________________________________________________________________\n",
            "conv1d (Conv1D)                 (None, 19998, 1)     601         embedding[0][0]                  \n",
            "__________________________________________________________________________________________________\n",
            "conv1d_1 (Conv1D)               (None, 19997, 1)     801         embedding[0][0]                  \n",
            "__________________________________________________________________________________________________\n",
            "conv1d_2 (Conv1D)               (None, 19996, 1)     1001        embedding[0][0]                  \n",
            "__________________________________________________________________________________________________\n",
            "max_pooling1d (MaxPooling1D)    (None, 100, 1)       0           conv1d[0][0]                     \n",
            "__________________________________________________________________________________________________\n",
            "max_pooling1d_1 (MaxPooling1D)  (None, 100, 1)       0           conv1d_1[0][0]                   \n",
            "__________________________________________________________________________________________________\n",
            "max_pooling1d_2 (MaxPooling1D)  (None, 100, 1)       0           conv1d_2[0][0]                   \n",
            "__________________________________________________________________________________________________\n",
            "concatenate (Concatenate)       (None, 300, 1)       0           max_pooling1d[0][0]              \n",
            "                                                                 max_pooling1d_1[0][0]            \n",
            "                                                                 max_pooling1d_2[0][0]            \n",
            "__________________________________________________________________________________________________\n",
            "dropout (Dropout)               (None, 300, 1)       0           concatenate[0][0]                \n",
            "__________________________________________________________________________________________________\n",
            "flatten (Flatten)               (None, 300)          0           dropout[0][0]                    \n",
            "__________________________________________________________________________________________________\n",
            "dense (Dense)                   (None, 100)          30100       flatten[0][0]                    \n",
            "__________________________________________________________________________________________________\n",
            "dense_1 (Dense)                 (None, 1)            101         dense[0][0]                      \n",
            "==================================================================================================\n",
            "Total params: 14,118,404\n",
            "Trainable params: 32,604\n",
            "Non-trainable params: 14,085,800\n",
            "__________________________________________________________________________________________________\n"
          ],
          "name": "stdout"
        }
      ]
    },
    {
      "cell_type": "markdown",
      "metadata": {
        "id": "288-rkCSouut"
      },
      "source": [
        "**Fit the model**"
      ]
    },
    {
      "cell_type": "code",
      "metadata": {
        "id": "5Eah3K9ombxX",
        "colab": {
          "base_uri": "https://localhost:8080/"
        },
        "outputId": "51077f1c-6251-4215-9fc8-92a87bdf119f"
      },
      "source": [
        "from sklearn.model_selection import KFold\n",
        "n_splits = 5\n",
        "epochs = 10\n",
        "CNN_train_input = np.stack(CNN_train_input)\n",
        "with tf.device('/device:GPU:0'):\n",
        "  kf = KFold(n_splits=n_splits)\n",
        "  history =[]\n",
        "  train_loss=[]\n",
        "  vald_loss=[]\n",
        "  fold = 1\n",
        "  for train_index, test_index in kf.split(CNN_train_input):\n",
        "    \n",
        "    checkpoint_filepath = 'CNN_results/CheckPoints/CNN_checkpoint'+str(fold)\n",
        "    model_checkpoint_callback = tf.keras.callbacks.ModelCheckpoint(\n",
        "    filepath=checkpoint_filepath,\n",
        "    save_weights_only=False,\n",
        "    monitor='loss',\n",
        "    mode='min',\n",
        "    save_best_only=True)\n",
        "\n",
        "    train_history = model.fit(\n",
        "                              CNN_train_input[train_index],\n",
        "                              CNN_train_output[train_index],#output\n",
        "                              epochs=epochs, #epochs\n",
        "                              verbose=1,\n",
        "                              callbacks=[model_checkpoint_callback]\n",
        "                          )\n",
        "    model_best = tf.keras.models.load_model(checkpoint_filepath)\n",
        "    fold+=1\n",
        "    loss_T = model_best.evaluate(CNN_train_input[train_index],CNN_train_output[train_index], verbose=0)\n",
        "    loss_V = model_best.evaluate(CNN_train_input[test_index],CNN_train_output[test_index], verbose=0)\n",
        "    print(loss_T,loss_V)\n",
        "    train_loss.append(loss_T)\n",
        "    vald_loss.append(loss_V)\n",
        "    history.append(train_history)"
      ],
      "execution_count": 15,
      "outputs": [
        {
          "output_type": "stream",
          "text": [
            "Epoch 1/10\n",
            "190/190 [==============================] - 52s 275ms/step - loss: 9.4450\n",
            "INFO:tensorflow:Assets written to: CNN_results/CheckPoints/CNN_checkpoint1/assets\n",
            "Epoch 2/10\n",
            "190/190 [==============================] - 52s 273ms/step - loss: 1.8643\n",
            "INFO:tensorflow:Assets written to: CNN_results/CheckPoints/CNN_checkpoint1/assets\n",
            "Epoch 3/10\n",
            "190/190 [==============================] - 52s 274ms/step - loss: 0.4790\n",
            "INFO:tensorflow:Assets written to: CNN_results/CheckPoints/CNN_checkpoint1/assets\n",
            "Epoch 4/10\n",
            "190/190 [==============================] - 52s 273ms/step - loss: 0.4320\n",
            "INFO:tensorflow:Assets written to: CNN_results/CheckPoints/CNN_checkpoint1/assets\n",
            "Epoch 5/10\n",
            "190/190 [==============================] - 52s 274ms/step - loss: 0.4445\n",
            "Epoch 6/10\n",
            "190/190 [==============================] - 52s 274ms/step - loss: 0.4103\n",
            "INFO:tensorflow:Assets written to: CNN_results/CheckPoints/CNN_checkpoint1/assets\n",
            "Epoch 7/10\n",
            "190/190 [==============================] - 52s 274ms/step - loss: 0.4000\n",
            "INFO:tensorflow:Assets written to: CNN_results/CheckPoints/CNN_checkpoint1/assets\n",
            "Epoch 8/10\n",
            "190/190 [==============================] - 52s 273ms/step - loss: 0.3974\n",
            "INFO:tensorflow:Assets written to: CNN_results/CheckPoints/CNN_checkpoint1/assets\n",
            "Epoch 9/10\n",
            "190/190 [==============================] - 52s 273ms/step - loss: 0.3886\n",
            "INFO:tensorflow:Assets written to: CNN_results/CheckPoints/CNN_checkpoint1/assets\n",
            "Epoch 10/10\n",
            "190/190 [==============================] - 52s 273ms/step - loss: 0.3821\n",
            "INFO:tensorflow:Assets written to: CNN_results/CheckPoints/CNN_checkpoint1/assets\n",
            "0.28850823640823364 0.3699384331703186\n",
            "Epoch 1/10\n",
            "190/190 [==============================] - 52s 273ms/step - loss: 0.3769\n",
            "INFO:tensorflow:Assets written to: CNN_results/CheckPoints/CNN_checkpoint2/assets\n",
            "Epoch 2/10\n",
            "190/190 [==============================] - 52s 273ms/step - loss: 0.3724\n",
            "INFO:tensorflow:Assets written to: CNN_results/CheckPoints/CNN_checkpoint2/assets\n",
            "Epoch 3/10\n",
            "190/190 [==============================] - 52s 274ms/step - loss: 0.3759\n",
            "Epoch 4/10\n",
            "190/190 [==============================] - 52s 274ms/step - loss: 0.3591\n",
            "INFO:tensorflow:Assets written to: CNN_results/CheckPoints/CNN_checkpoint2/assets\n",
            "Epoch 5/10\n",
            "190/190 [==============================] - 52s 274ms/step - loss: 0.3648\n",
            "Epoch 6/10\n",
            "190/190 [==============================] - 52s 274ms/step - loss: 0.3661\n",
            "Epoch 7/10\n",
            "190/190 [==============================] - 52s 274ms/step - loss: 0.3451\n",
            "INFO:tensorflow:Assets written to: CNN_results/CheckPoints/CNN_checkpoint2/assets\n",
            "Epoch 8/10\n",
            "190/190 [==============================] - 52s 275ms/step - loss: 0.3577\n",
            "Epoch 9/10\n",
            "190/190 [==============================] - 52s 273ms/step - loss: 0.3395\n",
            "INFO:tensorflow:Assets written to: CNN_results/CheckPoints/CNN_checkpoint2/assets\n",
            "Epoch 10/10\n",
            "190/190 [==============================] - 52s 273ms/step - loss: 0.3442\n",
            "0.2696821689605713 0.2625279426574707\n",
            "Epoch 1/10\n",
            "190/190 [==============================] - 52s 273ms/step - loss: 0.3297\n",
            "INFO:tensorflow:Assets written to: CNN_results/CheckPoints/CNN_checkpoint3/assets\n",
            "Epoch 2/10\n",
            "190/190 [==============================] - 52s 273ms/step - loss: 0.3318\n",
            "Epoch 3/10\n",
            "190/190 [==============================] - 52s 273ms/step - loss: 0.3255\n",
            "INFO:tensorflow:Assets written to: CNN_results/CheckPoints/CNN_checkpoint3/assets\n",
            "Epoch 4/10\n",
            "190/190 [==============================] - 52s 273ms/step - loss: 0.3237\n",
            "INFO:tensorflow:Assets written to: CNN_results/CheckPoints/CNN_checkpoint3/assets\n",
            "Epoch 5/10\n",
            "190/190 [==============================] - 52s 273ms/step - loss: 0.3194\n",
            "INFO:tensorflow:Assets written to: CNN_results/CheckPoints/CNN_checkpoint3/assets\n",
            "Epoch 6/10\n",
            "190/190 [==============================] - 52s 273ms/step - loss: 0.3195\n",
            "Epoch 7/10\n",
            "190/190 [==============================] - 52s 272ms/step - loss: 0.3144\n",
            "INFO:tensorflow:Assets written to: CNN_results/CheckPoints/CNN_checkpoint3/assets\n",
            "Epoch 8/10\n",
            "190/190 [==============================] - 52s 273ms/step - loss: 0.3133\n",
            "INFO:tensorflow:Assets written to: CNN_results/CheckPoints/CNN_checkpoint3/assets\n",
            "Epoch 9/10\n",
            "190/190 [==============================] - 52s 273ms/step - loss: 0.3147\n",
            "Epoch 10/10\n",
            "190/190 [==============================] - 52s 272ms/step - loss: 0.3131\n",
            "INFO:tensorflow:Assets written to: CNN_results/CheckPoints/CNN_checkpoint3/assets\n",
            "0.242942214012146 0.3423715829849243\n",
            "Epoch 1/10\n",
            "190/190 [==============================] - 52s 273ms/step - loss: 0.3208\n",
            "INFO:tensorflow:Assets written to: CNN_results/CheckPoints/CNN_checkpoint4/assets\n",
            "Epoch 2/10\n",
            "190/190 [==============================] - 52s 275ms/step - loss: 0.3212\n",
            "Epoch 3/10\n",
            "190/190 [==============================] - 52s 275ms/step - loss: 0.3169\n",
            "INFO:tensorflow:Assets written to: CNN_results/CheckPoints/CNN_checkpoint4/assets\n",
            "Epoch 4/10\n",
            "190/190 [==============================] - 52s 274ms/step - loss: 0.3202\n",
            "Epoch 5/10\n",
            "190/190 [==============================] - 52s 275ms/step - loss: 0.3191\n",
            "Epoch 6/10\n",
            "190/190 [==============================] - 52s 275ms/step - loss: 0.3231\n",
            "Epoch 7/10\n",
            "190/190 [==============================] - 52s 275ms/step - loss: 0.3179\n",
            "Epoch 8/10\n",
            "190/190 [==============================] - 52s 274ms/step - loss: 0.3215\n",
            "Epoch 9/10\n",
            "190/190 [==============================] - 52s 274ms/step - loss: 0.3178\n",
            "Epoch 10/10\n",
            "190/190 [==============================] - 52s 274ms/step - loss: 0.3238\n",
            "0.25727272033691406 0.2536637485027313\n",
            "Epoch 1/10\n",
            "190/190 [==============================] - 52s 276ms/step - loss: 0.3189\n",
            "INFO:tensorflow:Assets written to: CNN_results/CheckPoints/CNN_checkpoint5/assets\n",
            "Epoch 2/10\n",
            "190/190 [==============================] - 52s 276ms/step - loss: 0.3142\n",
            "INFO:tensorflow:Assets written to: CNN_results/CheckPoints/CNN_checkpoint5/assets\n",
            "Epoch 3/10\n",
            "190/190 [==============================] - 52s 275ms/step - loss: 0.3193\n",
            "Epoch 4/10\n",
            "190/190 [==============================] - 52s 274ms/step - loss: 0.3227\n",
            "Epoch 5/10\n",
            "190/190 [==============================] - 53s 277ms/step - loss: 0.3185\n",
            "Epoch 6/10\n",
            "190/190 [==============================] - 52s 273ms/step - loss: 0.3193\n",
            "Epoch 7/10\n",
            "190/190 [==============================] - 52s 273ms/step - loss: 0.3177\n",
            "Epoch 8/10\n",
            "190/190 [==============================] - 52s 273ms/step - loss: 0.3160\n",
            "Epoch 9/10\n",
            "190/190 [==============================] - 52s 275ms/step - loss: 0.3124\n",
            "INFO:tensorflow:Assets written to: CNN_results/CheckPoints/CNN_checkpoint5/assets\n",
            "Epoch 10/10\n",
            "190/190 [==============================] - 52s 276ms/step - loss: 0.3124\n",
            "INFO:tensorflow:Assets written to: CNN_results/CheckPoints/CNN_checkpoint5/assets\n",
            "0.2594635784626007 0.22803321480751038\n"
          ],
          "name": "stdout"
        }
      ]
    },
    {
      "cell_type": "markdown",
      "metadata": {
        "id": "NOnbGUpWo0R-"
      },
      "source": [
        "**Plotting**"
      ]
    },
    {
      "cell_type": "code",
      "metadata": {
        "id": "eWotBg1FnINm",
        "colab": {
          "base_uri": "https://localhost:8080/",
          "height": 279
        },
        "outputId": "df41b047-008d-4f57-d908-3863af7c3318"
      },
      "source": [
        "plt.plot(train_loss, label = \"Trainng Loss\")\n",
        "plt.plot(vald_loss, label = \"Validation Loss\")\n",
        "# naming the x axis \n",
        "plt.xlabel('Folds') \n",
        "# naming the y axis \n",
        "plt.ylabel('Error') \n",
        "# function to show the plot \n",
        "plt.legend()\n",
        "plt.savefig('CNN_results/Plots/CNN_loss_check.png')"
      ],
      "execution_count": 17,
      "outputs": [
        {
          "output_type": "display_data",
          "data": {
            "image/png": "[encoded data removed]",
            "text/plain": [
              "<Figure size 432x288 with 1 Axes>"
            ]
          },
          "metadata": {
            "tags": [],
            "needs_background": "light"
          }
        }
      ]
    },
    {
      "cell_type": "code",
      "metadata": {
        "id": "8LtLP387nlI0",
        "colab": {
          "base_uri": "https://localhost:8080/",
          "height": 119
        },
        "outputId": "6e4bf543-019c-4472-9158-c627e97e28d7"
      },
      "source": [
        "test_loss = []\n",
        "CNN_test_input = np.stack(CNN_test_input)\n",
        "with tf.device('/device:GPU:0'):\n",
        "  for i in range(n_splits):\n",
        "    checkpoint_filepath = 'CNN_results/CheckPoints/CNN_checkpoint'+str(i+1) \n",
        "    best_model = tf.keras.models.load_model(\n",
        "                                            checkpoint_filepath, custom_objects=None, compile=True, options=None\n",
        "                                            )\n",
        "    predicted = best_model.predict(CNN_test_input)\n",
        "    \n",
        "    loss_test = best_model.evaluate(CNN_test_input,CNN_test_output, verbose=0)\n",
        "    print(\"Test Errror for the fold \",i+1,\" is\",loss_test )\n",
        "    \n",
        "    \n",
        "    plt.plot(predicted[0:50], label = \"Predicted Values\")  \n",
        "    plt.plot(CNN_test_output[0:50], label = \"Actual Values\")\n",
        "    # naming the x axis \n",
        "    plt.xlabel('Test Samples') \n",
        "    # naming the y axis \n",
        "    plt.ylabel('Output Values') \n",
        "    # function to show the plot \n",
        "    plt.legend()\n",
        "    textstr = \"Test Errror for the fold \"+ str(i+1)+\" is \"+str(np.round(loss_test,3))\n",
        "    plt.gcf().text(0, -0.25, textstr, fontsize=14)\n",
        "    plt.savefig('CNN_results/Plots/CNN_fold'+str(i+1)+'.png',bbox_inches='tight')\n",
        "    plt.clf()\n",
        "\n",
        "    test_loss.append(loss_test)"
      ],
      "execution_count": 18,
      "outputs": [
        {
          "output_type": "stream",
          "text": [
            "Test Errror for the fold  1  is 0.41903945803642273\n",
            "Test Errror for the fold  2  is 0.2949763238430023\n",
            "Test Errror for the fold  3  is 0.262090802192688\n",
            "Test Errror for the fold  4  is 0.2995653748512268\n",
            "Test Errror for the fold  5  is 0.3143835663795471\n"
          ],
          "name": "stdout"
        },
        {
          "output_type": "display_data",
          "data": {
            "text/plain": [
              "<Figure size 432x288 with 0 Axes>"
            ]
          },
          "metadata": {
            "tags": []
          }
        }
      ]
    },
    {
      "cell_type": "code",
      "metadata": {
        "id": "MBxQA0iUnsfB",
        "colab": {
          "base_uri": "https://localhost:8080/",
          "height": 461
        },
        "outputId": "2338f743-59fe-4097-f15c-71a5a0cfcf33"
      },
      "source": [
        "import matplotlib.pylab as plt\n",
        "data=[]\n",
        "data.append(train_loss)\n",
        "data.append(vald_loss)\n",
        "data.append(test_loss)\n",
        "  \n",
        "fig = plt.figure()  \n",
        "# Creating axes instance \n",
        "ax = fig.add_axes([0, 0, 1, 1]) \n",
        "  \n",
        "# Creating plot \n",
        "ax.boxplot(data)\n",
        "\n",
        "ax.set_xticklabels(['Training', 'Validation','Test']) \n",
        "\n",
        "# naming the y axis \n",
        "plt.ylabel('MSE Loss')\n",
        "plt.title(\"Box plot for Training, Validation and Test Loss\")\n",
        "textstr ='Training Loss  : '+str(np.round(np.mean(train_loss),3))+' ('+str(np.round(np.std(train_loss),3))+')\\n'+'Validation Loss  : '+str(np.round(np.mean(vald_loss),3))+' ('+str(np.round(np.std(vald_loss),3))+')\\n'+'Test Loss  : '+str(np.round(np.mean(test_loss),3))+' ('+str(np.round(np.std(test_loss),3))+')'\n",
        "plt.gcf().text(0, -0.25, textstr, fontsize=14)\n",
        "# show plot \n",
        "plt.savefig('CNN_results/Plots/block_CNN.png',bbox_inches='tight')\n",
        "\n",
        "print('Training Loss: %.3f (%.3f)' % (np.mean(train_loss), np.std(train_loss)))\n",
        "print('Validation Loss: %.3f (%.3f)' % (np.mean(vald_loss), np.std(vald_loss)))\n",
        "print('Test Loss: %.3f (%.3f)' % (np.mean(test_loss), np.std(test_loss)))"
      ],
      "execution_count": 19,
      "outputs": [
        {
          "output_type": "stream",
          "text": [
            "Training Loss: 0.264 (0.015)\n",
            "Validation Loss: 0.291 (0.055)\n",
            "Test Loss: 0.318 (0.053)\n"
          ],
          "name": "stdout"
        },
        {
          "output_type": "display_data",
          "data": {
            "image/png": "[encoded data removed]",
            "text/plain": [
              "<Figure size 432x288 with 1 Axes>"
            ]
          },
          "metadata": {
            "tags": [],
            "needs_background": "light"
          }
        }
      ]
    },
    {
      "cell_type": "code",
      "metadata": {
        "id": "rQ-Q_s7gYDzC",
        "outputId": "98469d05-6c11-4bc0-f531-94b4bdeb3e8f",
        "colab": {
          "base_uri": "https://localhost:8080/"
        }
      },
      "source": [
        "!zip -r /content/file.zip /content/CNN_results"
      ],
      "execution_count": 20,
      "outputs": [
        {
          "output_type": "stream",
          "text": [
            "  adding: content/CNN_results/ (stored 0%)\n",
            "  adding: content/CNN_results/.ipynb_checkpoints/ (stored 0%)\n",
            "  adding: content/CNN_results/CheckPoints/ (stored 0%)\n",
            "  adding: content/CNN_results/CheckPoints/CNN_checkpoint2/ (stored 0%)\n",
            "  adding: content/CNN_results/CheckPoints/CNN_checkpoint2/variables/ (stored 0%)\n",
            "  adding: content/CNN_results/CheckPoints/CNN_checkpoint2/variables/variables.index (deflated 55%)\n",
            "  adding: content/CNN_results/CheckPoints/CNN_checkpoint2/variables/variables.data-00000-of-00001 (deflated 8%)\n",
            "  adding: content/CNN_results/CheckPoints/CNN_checkpoint2/assets/ (stored 0%)\n",
            "  adding: content/CNN_results/CheckPoints/CNN_checkpoint2/saved_model.pb (deflated 89%)\n",
            "  adding: content/CNN_results/CheckPoints/CNN_checkpoint5/ (stored 0%)\n",
            "  adding: content/CNN_results/CheckPoints/CNN_checkpoint5/variables/ (stored 0%)\n",
            "  adding: content/CNN_results/CheckPoints/CNN_checkpoint5/variables/variables.index (deflated 55%)\n",
            "  adding: content/CNN_results/CheckPoints/CNN_checkpoint5/variables/variables.data-00000-of-00001 (deflated 8%)\n",
            "  adding: content/CNN_results/CheckPoints/CNN_checkpoint5/assets/ (stored 0%)\n",
            "  adding: content/CNN_results/CheckPoints/CNN_checkpoint5/saved_model.pb (deflated 88%)\n",
            "  adding: content/CNN_results/CheckPoints/CNN_checkpoint1/ (stored 0%)\n",
            "  adding: content/CNN_results/CheckPoints/CNN_checkpoint1/variables/ (stored 0%)\n",
            "  adding: content/CNN_results/CheckPoints/CNN_checkpoint1/variables/variables.index (deflated 55%)\n",
            "  adding: content/CNN_results/CheckPoints/CNN_checkpoint1/variables/variables.data-00000-of-00001 (deflated 8%)\n",
            "  adding: content/CNN_results/CheckPoints/CNN_checkpoint1/assets/ (stored 0%)\n",
            "  adding: content/CNN_results/CheckPoints/CNN_checkpoint1/saved_model.pb (deflated 89%)\n",
            "  adding: content/CNN_results/CheckPoints/CNN_checkpoint3/ (stored 0%)\n",
            "  adding: content/CNN_results/CheckPoints/CNN_checkpoint3/variables/ (stored 0%)\n",
            "  adding: content/CNN_results/CheckPoints/CNN_checkpoint3/variables/variables.index (deflated 55%)\n",
            "  adding: content/CNN_results/CheckPoints/CNN_checkpoint3/variables/variables.data-00000-of-00001 (deflated 8%)\n",
            "  adding: content/CNN_results/CheckPoints/CNN_checkpoint3/assets/ (stored 0%)\n",
            "  adding: content/CNN_results/CheckPoints/CNN_checkpoint3/saved_model.pb (deflated 88%)\n",
            "  adding: content/CNN_results/CheckPoints/CNN_checkpoint4/ (stored 0%)\n",
            "  adding: content/CNN_results/CheckPoints/CNN_checkpoint4/variables/ (stored 0%)\n",
            "  adding: content/CNN_results/CheckPoints/CNN_checkpoint4/variables/variables.index (deflated 55%)\n",
            "  adding: content/CNN_results/CheckPoints/CNN_checkpoint4/variables/variables.data-00000-of-00001 (deflated 8%)\n",
            "  adding: content/CNN_results/CheckPoints/CNN_checkpoint4/assets/ (stored 0%)\n",
            "  adding: content/CNN_results/CheckPoints/CNN_checkpoint4/saved_model.pb (deflated 89%)\n",
            "  adding: content/CNN_results/Plots/ (stored 0%)\n",
            "  adding: content/CNN_results/Plots/CNN_fold1.png (deflated 3%)\n",
            "  adding: content/CNN_results/Plots/CNN_loss_check.png (deflated 5%)\n",
            "  adding: content/CNN_results/Plots/CNN_fold3.png (deflated 4%)\n",
            "  adding: content/CNN_results/Plots/block_CNN.png (deflated 13%)\n",
            "  adding: content/CNN_results/Plots/CNN_fold2.png (deflated 4%)\n",
            "  adding: content/CNN_results/Plots/CNN_fold5.png (deflated 4%)\n",
            "  adding: content/CNN_results/Plots/CNN_fold4.png (deflated 4%)\n"
          ],
          "name": "stdout"
        }
      ]
    }
  ]
}